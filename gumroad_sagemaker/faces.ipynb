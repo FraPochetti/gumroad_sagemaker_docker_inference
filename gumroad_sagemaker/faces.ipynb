{
 "cells": [
  {
   "cell_type": "markdown",
   "metadata": {},
   "source": [
    "# Train a local segmentation model for human faces and deploy to Amazon SageMaker with a custom Docker container"
   ]
  },
  {
   "cell_type": "markdown",
   "metadata": {},
   "source": [
    "Useful commands\n",
    "* `conda env create -f local_env.yml`\n",
    "* `sudo ln -s /home/ubuntu/gumroad_sagemaker_docker_inference/gumroad_sagemaker/sagemaker_deploy/opt/ml/ /opt/ml`\n",
    "* `docker run --name gumserve --rm -it gumroad serve`"
   ]
  },
  {
   "cell_type": "markdown",
   "metadata": {},
   "source": [
    "## Train model"
   ]
  },
  {
   "cell_type": "markdown",
   "metadata": {},
   "source": [
    "### Data"
   ]
  },
  {
   "cell_type": "code",
   "execution_count": null,
   "metadata": {},
   "outputs": [],
   "source": [
    "from fastai.vision.all import *"
   ]
  },
  {
   "cell_type": "code",
   "execution_count": null,
   "metadata": {},
   "outputs": [],
   "source": [
    "path = Path(\"/home/ubuntu/data/faces_msft_1000\")"
   ]
  },
  {
   "cell_type": "code",
   "execution_count": null,
   "metadata": {},
   "outputs": [],
   "source": [
    "def binarize_image(path: Union[str, Path], overwrite: bool = False) -> None:\n",
    "    if overwrite:\n",
    "        o = np.array(Image.open(str(path).replace(\".png\", \"_seg.png\")))\n",
    "        bin = np.ones(o.shape) * 255\n",
    "        bin[(o==0) | (o==12) | (o==13) | (o==15) | (o==17) | (o==255)] = 0\n",
    "        Image.fromarray(bin.astype(\"uint8\")).convert(\"L\").save(str(path).replace(\".png\", \"_bin.png\"))"
   ]
  },
  {
   "cell_type": "code",
   "execution_count": null,
   "metadata": {},
   "outputs": [],
   "source": [
    "image_files = get_image_files(path)\n",
    "image_files = [f for f in image_files if \"seg\" not in str(f) and \"bin\" not in str(f)]\n",
    "for image_file in image_files: binarize_image(image_file, overwrite=False)\n",
    "len(image_files)"
   ]
  },
  {
   "cell_type": "code",
   "execution_count": null,
   "metadata": {},
   "outputs": [],
   "source": [
    "get_images = lambda p: L(x for x in get_image_files(p) if x.stem.isnumeric())\n",
    "image_files = get_images(path)\n",
    "image_files"
   ]
  },
  {
   "cell_type": "code",
   "execution_count": null,
   "metadata": {},
   "outputs": [],
   "source": [
    "codes = [\"background\", \"face\"]\n",
    "name2id = {v:k for k,v in enumerate(codes)}\n",
    "name2id"
   ]
  },
  {
   "cell_type": "code",
   "execution_count": null,
   "metadata": {},
   "outputs": [],
   "source": [
    "img_fn = image_files[10]\n",
    "img = PILImage.create(img_fn)\n",
    "img.show(figsize=(5,5))"
   ]
  },
  {
   "cell_type": "code",
   "execution_count": null,
   "metadata": {},
   "outputs": [],
   "source": [
    "def get_msk(fn, p2c):\n",
    "  fn = path/f'{fn.stem}_bin{fn.suffix}'\n",
    "  msk = np.array(PILMask.create(fn))\n",
    "  for i, val in enumerate(p2c):\n",
    "    msk[msk==p2c[i]] = val\n",
    "  return PILMask.create(msk)\n",
    "\n",
    "p2c = {0: 0, 1: 255}"
   ]
  },
  {
   "cell_type": "code",
   "execution_count": null,
   "metadata": {},
   "outputs": [],
   "source": [
    "msk = PILMask.create(get_msk(img_fn, p2c))\n",
    "msk.show(figsize=(5,5), alpha=1)"
   ]
  },
  {
   "cell_type": "code",
   "execution_count": null,
   "metadata": {},
   "outputs": [],
   "source": [
    "ctx = img.show()\n",
    "msk.show(ctx=ctx)"
   ]
  },
  {
   "cell_type": "code",
   "execution_count": null,
   "metadata": {},
   "outputs": [],
   "source": [
    "sz = msk.shape; sz"
   ]
  },
  {
   "cell_type": "markdown",
   "metadata": {},
   "source": [
    "### Model"
   ]
  },
  {
   "cell_type": "code",
   "execution_count": null,
   "metadata": {},
   "outputs": [],
   "source": [
    "def get_y(o): return get_msk(o, p2c)\n",
    "\n",
    "faces = DataBlock(blocks=(ImageBlock, MaskBlock(codes)),\n",
    "                  get_items=get_images,\n",
    "                  splitter=RandomSplitter(),\n",
    "                  get_y=get_y,\n",
    "                  batch_tfms=[*aug_transforms(size=sz), Normalize.from_stats(*imagenet_stats)])"
   ]
  },
  {
   "cell_type": "code",
   "execution_count": null,
   "metadata": {},
   "outputs": [],
   "source": [
    "dls = faces.dataloaders(path, bs=8)"
   ]
  },
  {
   "cell_type": "code",
   "execution_count": null,
   "metadata": {},
   "outputs": [],
   "source": [
    "dls.show_batch(max_n=4, vmin=0, vmax=1, figsize=(10,10))"
   ]
  },
  {
   "cell_type": "code",
   "execution_count": null,
   "metadata": {},
   "outputs": [],
   "source": [
    "get_c(dls)"
   ]
  },
  {
   "cell_type": "code",
   "execution_count": null,
   "metadata": {},
   "outputs": [],
   "source": [
    "x, y = dls.one_batch()\n",
    "x.shape, y.shape"
   ]
  },
  {
   "cell_type": "code",
   "execution_count": null,
   "metadata": {},
   "outputs": [],
   "source": [
    "dls.vocab = codes"
   ]
  },
  {
   "cell_type": "code",
   "execution_count": null,
   "metadata": {},
   "outputs": [],
   "source": [
    "void_code = name2id['background']; void_code"
   ]
  },
  {
   "cell_type": "code",
   "execution_count": null,
   "metadata": {},
   "outputs": [],
   "source": [
    "def acc_faces(inp, targ):\n",
    "  targ = targ.squeeze(1)\n",
    "  mask = targ != void_code\n",
    "  return (inp.argmax(dim=1)[mask]==targ[mask]).float().mean()"
   ]
  },
  {
   "cell_type": "code",
   "execution_count": null,
   "metadata": {},
   "outputs": [],
   "source": [
    "opt_func = partial(Adam, lr=1e-3, wd=0.01)\n",
    "\n",
    "learn = unet_learner(dls, resnet34, loss_func=CrossEntropyLossFlat(axis=1), opt_func=opt_func, metrics=acc_faces, norm_type=None, wd_bn_bias=True)"
   ]
  },
  {
   "cell_type": "code",
   "execution_count": null,
   "metadata": {},
   "outputs": [],
   "source": [
    "#learn.summary()"
   ]
  },
  {
   "cell_type": "code",
   "execution_count": null,
   "metadata": {},
   "outputs": [],
   "source": [
    "torch.cuda.is_available()"
   ]
  },
  {
   "cell_type": "code",
   "execution_count": null,
   "metadata": {},
   "outputs": [],
   "source": [
    "learn.fine_tune(4, base_lr=1e-3, freeze_epochs=1)"
   ]
  },
  {
   "cell_type": "code",
   "execution_count": null,
   "metadata": {},
   "outputs": [],
   "source": [
    "learn.export('faces.pkl')"
   ]
  },
  {
   "cell_type": "code",
   "execution_count": null,
   "metadata": {},
   "outputs": [],
   "source": [
    "learn.recorder.plot_sched()"
   ]
  },
  {
   "cell_type": "code",
   "execution_count": null,
   "metadata": {},
   "outputs": [],
   "source": [
    "learn.show_results(max_n=4, figsize=(6,10))"
   ]
  },
  {
   "cell_type": "markdown",
   "metadata": {},
   "source": [
    "### Inference"
   ]
  },
  {
   "cell_type": "code",
   "execution_count": null,
   "metadata": {},
   "outputs": [],
   "source": [
    "from fastai.vision.all import *"
   ]
  },
  {
   "cell_type": "code",
   "execution_count": null,
   "metadata": {},
   "outputs": [],
   "source": [
    "def get_y(x): pass\n",
    "def acc_faces(x): pass\n",
    "\n",
    "learn = load_learner('faces.pkl', cpu=True)"
   ]
  },
  {
   "cell_type": "code",
   "execution_count": null,
   "metadata": {},
   "outputs": [],
   "source": [
    "img = Image.open(\"./test_faces/fra2.jpg\")\n",
    "print(img.shape)\n",
    "img.thumbnail((512, 512))\n",
    "img = PILImage.create(img)\n",
    "print(img.shape); img"
   ]
  },
  {
   "cell_type": "code",
   "execution_count": null,
   "metadata": {},
   "outputs": [],
   "source": [
    "pred_mask, _, _ = learn.predict(img); pred_mask.shape"
   ]
  },
  {
   "cell_type": "code",
   "execution_count": null,
   "metadata": {},
   "outputs": [],
   "source": [
    "def resize_mask_to_img(img, pred_mask):\n",
    "    if pred_mask.max() == 1: pred_mask = pred_mask.mul(255)\n",
    "    pil_img = Image.fromarray(pred_mask.byte().cpu().numpy())\n",
    "    h, w = img.shape\n",
    "    resized_img = pil_img.resize((w, h))\n",
    "    return TensorMask(resized_img)"
   ]
  },
  {
   "cell_type": "code",
   "execution_count": null,
   "metadata": {},
   "outputs": [],
   "source": [
    "resize_mask_to_img(img, pred_mask).show()"
   ]
  },
  {
   "cell_type": "code",
   "execution_count": null,
   "metadata": {},
   "outputs": [],
   "source": [
    "ctx = img.show()\n",
    "pred_mask = resize_mask_to_img(img, pred_mask)\n",
    "pred_mask.show(ctx=ctx)"
   ]
  },
  {
   "cell_type": "code",
   "execution_count": null,
   "metadata": {},
   "outputs": [],
   "source": [
    "def show_pred(img_path, mask):\n",
    "    img = Image.open(img_path)\n",
    "    img.thumbnail((512, 512))\n",
    "    img = PILImage.create(img)\n",
    "    ctx = img.show()\n",
    "    mask = resize_mask_to_img(img, mask)\n",
    "    mask.show(ctx=ctx)"
   ]
  },
  {
   "cell_type": "code",
   "execution_count": null,
   "metadata": {},
   "outputs": [],
   "source": [
    "show_pred(\"./test_faces/fra2.jpg\", pred_mask)"
   ]
  },
  {
   "cell_type": "markdown",
   "metadata": {},
   "source": [
    "## Testing `serve` script locally"
   ]
  },
  {
   "cell_type": "code",
   "execution_count": null,
   "metadata": {},
   "outputs": [],
   "source": [
    "from fastai.vision.all import *\n",
    "import requests, io, base64"
   ]
  },
  {
   "cell_type": "code",
   "execution_count": null,
   "metadata": {},
   "outputs": [],
   "source": [
    "def ping(url):\n",
    "    url = f'http://{url}:8080/ping'\n",
    "    return requests.get(url)\n",
    "\n",
    "def post_local(url, img_path):\n",
    "    img = Image.open(img_path)\n",
    "\n",
    "    byte_arr = io.BytesIO()\n",
    "    img.save(byte_arr, format='JPEG')\n",
    "    encoded_image = base64.encodebytes(byte_arr.getvalue()).decode('ascii')\n",
    "    url = f'http://{url}:8080/invocations'\n",
    "\n",
    "    headers = {'Content-Type': 'application/json'}\n",
    "    data = {'image': encoded_image}\n",
    "\n",
    "    return requests.post(url, headers=headers, json=data)\n",
    "    \n",
    "def post_process_mask(data):\n",
    "    mask_data = data['mask']\n",
    "    mask_numpy = np.asarray(mask_data)\n",
    "    mask_numpy = mask_numpy.reshape(512, 512)\n",
    "\n",
    "    return TensorMask(mask_numpy)"
   ]
  },
  {
   "cell_type": "code",
   "execution_count": null,
   "metadata": {},
   "outputs": [],
   "source": [
    "img_path = \"./test_faces/fra1.jpg\"\n",
    "#url = \"172.17.0.2\"\n",
    "url = \"localhost\""
   ]
  },
  {
   "cell_type": "code",
   "execution_count": null,
   "metadata": {},
   "outputs": [],
   "source": [
    "response = ping(url)\n",
    "response.text, response.status_code"
   ]
  },
  {
   "cell_type": "code",
   "execution_count": null,
   "metadata": {},
   "outputs": [],
   "source": [
    "response = post_local(url, img_path)\n",
    "response.status_code"
   ]
  },
  {
   "cell_type": "code",
   "execution_count": null,
   "metadata": {},
   "outputs": [],
   "source": [
    "data = response.json()\n",
    "mask = post_process_mask(data)\n",
    "mask.shape"
   ]
  },
  {
   "cell_type": "code",
   "execution_count": null,
   "metadata": {},
   "outputs": [],
   "source": [
    "show_pred(img_path, mask)"
   ]
  },
  {
   "cell_type": "markdown",
   "metadata": {},
   "source": [
    "## Deploying to SageMaker"
   ]
  },
  {
   "cell_type": "code",
   "execution_count": null,
   "metadata": {},
   "outputs": [],
   "source": [
    "def resize_mask_to_img(img, pred_mask):\n",
    "    if pred_mask.max() == 1: pred_mask = pred_mask.mul(255)\n",
    "    pil_img = Image.fromarray(pred_mask.byte().cpu().numpy())\n",
    "    h, w = img.shape\n",
    "    resized_img = pil_img.resize((w, h))\n",
    "    return TensorMask(resized_img)\n",
    "\n",
    "def show_pred(img_path, mask):\n",
    "    img = Image.open(img_path)\n",
    "    img.thumbnail((512, 512))\n",
    "    img = PILImage.create(img)\n",
    "    ctx = img.show()\n",
    "    mask = resize_mask_to_img(img, mask)\n",
    "    mask.show(ctx=ctx)\n",
    "    \n",
    "def post_process_mask(data):\n",
    "    mask_data = data['mask']\n",
    "    mask_numpy = np.asarray(mask_data)\n",
    "    mask_numpy = mask_numpy.reshape(512, 512)\n",
    "\n",
    "    return TensorMask(mask_numpy)"
   ]
  },
  {
   "cell_type": "code",
   "execution_count": null,
   "metadata": {},
   "outputs": [],
   "source": [
    "import boto3, sagemaker, json, base64\n",
    "from fastai.vision.all import *\n",
    "\n",
    "region = \"eu-west-1\"\n",
    "role = \"arn:aws:iam::257446244580:role/sagemaker-icevision\"\n",
    "sm_client = boto3.client(\"sagemaker\", region_name=region)\n",
    "runtime_sm_client = boto3.client(\"sagemaker-runtime\", region_name=region)\n",
    "session = sagemaker.Session(boto_session=boto3.Session(region_name=region))\n",
    "ecr_image = \"257446244580.dkr.ecr.eu-west-1.amazonaws.com/custom-images:gumroad\"\n",
    "name = \"gumroad\""
   ]
  },
  {
   "cell_type": "code",
   "execution_count": null,
   "metadata": {},
   "outputs": [],
   "source": [
    "!cd sagemaker_deploy/opt/ml/model/\n",
    "!tar -cvpzf model.tar.gz faces.pkl"
   ]
  },
  {
   "cell_type": "code",
   "execution_count": null,
   "metadata": {},
   "outputs": [],
   "source": [
    "default_bucket = session.default_bucket(); default_bucket"
   ]
  },
  {
   "cell_type": "code",
   "execution_count": null,
   "metadata": {},
   "outputs": [],
   "source": [
    "model_uri = session.upload_data(path=\"/home/ubuntu/KagglePlaygrounds/gumroad_sagemaker/model.tar.gz\", key_prefix=\"gumroad\"); model_uri"
   ]
  },
  {
   "cell_type": "markdown",
   "metadata": {},
   "source": [
    "### Deploy via the `sagemaker` SDK"
   ]
  },
  {
   "cell_type": "code",
   "execution_count": null,
   "metadata": {},
   "outputs": [],
   "source": [
    "model = sagemaker.model.Model(image_uri=ecr_image,\n",
    "                              name=name,\n",
    "                              #model_data=model_uri, # REMOVE IF USING Dockerfile.ModelLocal, as model is already embedded in the image\n",
    "                              role=role,\n",
    "                              sagemaker_session=session,\n",
    "                              predictor_cls=sagemaker.Predictor\n",
    "                             )\n",
    "\n",
    "predictor = model.deploy(initial_instance_count=1, \n",
    "                         instance_type='ml.m5.large', \n",
    "                         endpoint_name=name)"
   ]
  },
  {
   "cell_type": "markdown",
   "metadata": {},
   "source": [
    "### Deploy via the `boto3` client API"
   ]
  },
  {
   "cell_type": "code",
   "execution_count": null,
   "metadata": {},
   "outputs": [],
   "source": [
    "model = sm_client.create_model(\n",
    "    ModelName=name, \n",
    "    ExecutionRoleArn=role, \n",
    "    PrimaryContainer={\n",
    "        \"Image\": ecr_image,\n",
    "        \"ModelDataUrl\": model_uri, # REMOVE IF USING Dockerfile.ModelLocal, as model is already embedded in the image\n",
    "    }\n",
    ")\n",
    "\n",
    "endpoint_config = sm_client.create_endpoint_config(\n",
    "    EndpointConfigName=name,\n",
    "    ProductionVariants=[\n",
    "        {\n",
    "            \"InstanceType\": 'ml.m5.large',\n",
    "            \"InitialVariantWeight\": 1,\n",
    "            \"InitialInstanceCount\": 1,\n",
    "            \"ModelName\": name,\n",
    "            \"VariantName\": \"AllTraffic\",\n",
    "        }\n",
    "    ],\n",
    ")\n",
    "\n",
    "endpoint = sm_client.create_endpoint(\n",
    "    EndpointName=name, EndpointConfigName=name\n",
    ")\n",
    "\n",
    "def wait_for_endpoint_in_service(endpoint_name):\n",
    "    print(\"Waiting for endpoint in service\")\n",
    "    while True:\n",
    "        details = sm_client.describe_endpoint(EndpointName=endpoint_name)\n",
    "        status = details[\"EndpointStatus\"]\n",
    "        if status in [\"InService\", \"Failed\"]:\n",
    "            print(\"\\nDone!\")\n",
    "            break\n",
    "        print(\".\", end=\"\", flush=True)\n",
    "        time.sleep(30)\n",
    "\n",
    "\n",
    "wait_for_endpoint_in_service(name)\n",
    "\n",
    "sm_client.describe_endpoint(EndpointName=name)"
   ]
  },
  {
   "cell_type": "markdown",
   "metadata": {},
   "source": [
    "### Invoke the endpoint"
   ]
  },
  {
   "cell_type": "code",
   "execution_count": null,
   "metadata": {},
   "outputs": [],
   "source": [
    "predictor = sagemaker.Predictor(endpoint_name=name, sagemaker_session=session); predictor.endpoint_name"
   ]
  },
  {
   "cell_type": "code",
   "execution_count": null,
   "metadata": {},
   "outputs": [],
   "source": [
    "img_path = \"./test_faces/fra1.jpg\"\n",
    "\n",
    "with open(img_path, \"rb\") as img_file:\n",
    "    b64_string = base64.b64encode(img_file.read())"
   ]
  },
  {
   "cell_type": "code",
   "execution_count": null,
   "metadata": {},
   "outputs": [],
   "source": [
    "response = predictor.predict('{\"image\": \"'+b64_string.decode('utf-8')+'\"}', initial_args={\"ContentType\": \"application/json\"})"
   ]
  },
  {
   "cell_type": "code",
   "execution_count": null,
   "metadata": {},
   "outputs": [],
   "source": [
    "data = json.loads(response)\n",
    "mask = post_process_mask(data)\n",
    "mask.shape"
   ]
  },
  {
   "cell_type": "code",
   "execution_count": null,
   "metadata": {},
   "outputs": [],
   "source": [
    "show_pred(img_path, mask)"
   ]
  },
  {
   "cell_type": "code",
   "execution_count": null,
   "metadata": {},
   "outputs": [],
   "source": [
    "response = runtime_sm_client.invoke_endpoint(EndpointName=name, ContentType=\"application/json\", Body='{\"image\": \"'+b64_string.decode('utf-8')+'\"}')"
   ]
  },
  {
   "cell_type": "code",
   "execution_count": null,
   "metadata": {},
   "outputs": [],
   "source": [
    "response = json.loads(response[\"Body\"].read().decode(\"utf-8\"))\n",
    "mask = post_process_mask(data)\n",
    "mask.shape"
   ]
  },
  {
   "cell_type": "code",
   "execution_count": null,
   "metadata": {},
   "outputs": [],
   "source": [
    "show_pred(img_path, mask)"
   ]
  },
  {
   "cell_type": "code",
   "execution_count": null,
   "metadata": {},
   "outputs": [],
   "source": [
    "sm_client.delete_model(ModelName=name)\n",
    "sm_client.delete_endpoint_config(EndpointConfigName=name)\n",
    "sm_client.delete_endpoint(EndpointName=name)"
   ]
  }
 ],
 "metadata": {
  "kernelspec": {
   "display_name": "gumroad",
   "language": "python",
   "name": "python3"
  },
  "language_info": {
   "codemirror_mode": {
    "name": "ipython",
    "version": 3
   },
   "file_extension": ".py",
   "mimetype": "text/x-python",
   "name": "python",
   "nbconvert_exporter": "python",
   "pygments_lexer": "ipython3",
   "version": "3.9.6"
  },
  "orig_nbformat": 4
 },
 "nbformat": 4,
 "nbformat_minor": 2
}
